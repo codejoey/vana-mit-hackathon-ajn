{
 "cells": [
  {
   "attachments": {},
   "cell_type": "markdown",
   "metadata": {},
   "source": [
    "# Authentication"
   ]
  },
  {
   "cell_type": "code",
   "execution_count": 1,
   "metadata": {},
   "outputs": [],
   "source": [
    "import urllib.request as request\n",
    "from urllib import parse as parse\n",
    "import json\n",
    "\n",
    "url=\"https://api.vana.com/api/v0/\"\n",
    "\n",
    "hdrs = {\n",
    "\t\"Content-Type\" : \"application/json\",\n",
    "}\n",
    "\n",
    "data={}\n",
    "#parses data into the proper form for urllib requests\n",
    "def par(data):\n",
    "\treturn parse.urlencode(data).encode()\n",
    "#makes the requests, and returns the response\n",
    "def make_req(urladd, data, headers=None):\n",
    "\treq = request.Request(url+urladd, data=par(data))\n",
    "\tresp = request.urlopen(req)\n",
    "\treturn resp.read().decode(\"utf-8\")\n",
    "\n",
    "#create the login\n",
    "data['email'] = input(\"email:\")\n",
    "make_req(\"auth/create-login\", data)\n",
    "#use the user-submitted code to generate the auth token\n",
    "data[\"code\"]=input(\"Authentication Code:\")\n",
    "auth = json.loads(make_req(\"auth/login\", data))\n",
    "auth = \"Bearer \"+auth['token']\n",
    "\n",
    "#save the auth token to the computer\n",
    "f = open('auth', 'w')\n",
    "f.write(auth)\n",
    "f.close()\n",
    "\n",
    "g = open('email', 'w')\n",
    "g.write(data['email'])\n",
    "g.close()"
   ]
  },
  {
   "attachments": {},
   "cell_type": "markdown",
   "metadata": {},
   "source": [
    "# Prompt"
   ]
  },
  {
   "cell_type": "code",
   "execution_count": null,
   "metadata": {},
   "outputs": [],
   "source": [
    "import urllib.request as request\n",
    "from urllib import parse as parse\n",
    "import json\n",
    "\n",
    "\n",
    "def par(data):\n",
    "\treturn parse.urlencode(data).encode()\n",
    "\n",
    "url=\"https://api.vana.com/api/v0/\"\n",
    "\n",
    "#Read the authentication file\n",
    "f = open('auth', 'r')\n",
    "auth = f.read()\n",
    "f.close()\n",
    "\n",
    "g = open('email', 'r')\n",
    "email = g.read()\n",
    "g.close()\n",
    "\n",
    "#Generate test request to check if auth token is valid.\n",
    "req = request.Request(url+\"account/balance\")\n",
    "req.add_header('Authorization', auth)\n",
    "resp = request.urlopen(req)\n",
    "print(resp.read())\n",
    "\n",
    "#Take user input for request data\n",
    "data = {}\n",
    "data['email']=email\n",
    "data['exhibit_name'] = input(\"Exhibit Name: \") or \"slfjoIEFKJdkshfsj\"\n",
    "data['prompt'] = input(\"Prompt: \") or \"{target_token}\"\n",
    "data[\"seed\"]=int(input(\"Seed [default:-1]: \") or \"-1\")\n",
    "data[\"n_samples\"]=int(input(\"Number of samples [default: 10]: \") or 10)\n",
    "data[\"ddim_steps\"]=int(input(\"Steps [default:200]: \") or 200)\n",
    "\n",
    "#make the request and print it to the console\n",
    "req = request.Request(url+'jobs/text-to-image', data=par(data))\n",
    "req.add_header('Authorization', auth)\n",
    "resp = request.urlopen(req)\n",
    "print(resp.read())\n",
    " \n",
    "\n",
    "\"\"\"\n",
    "1. grab text paragraph chuck it in\n",
    "2. clean up text (remove \"and, or, the\"), chuck it in.'\n",
    "\n",
    "3. output pdf with illustrations information\n",
    "\n",
    "\n",
    "# EMOTION classifier for book\n",
    "** ADD EMOJIS TO text\n",
    "\n",
    "\n",
    "\"\"\"\n",
    "#good prompt for emoji\n",
    "#round vector graphic emoji style sticker of {target_token} emoji bright color vivid funny sticker pop style fun emoticon emotive emotional round"
   ]
  }
 ],
 "metadata": {
  "kernelspec": {
   "display_name": "cits5508",
   "language": "python",
   "name": "python3"
  },
  "language_info": {
   "codemirror_mode": {
    "name": "ipython",
    "version": 3
   },
   "file_extension": ".py",
   "mimetype": "text/x-python",
   "name": "python",
   "nbconvert_exporter": "python",
   "pygments_lexer": "ipython3",
   "version": "3.7.6"
  },
  "orig_nbformat": 4,
  "vscode": {
   "interpreter": {
    "hash": "933435bd91104134afacd431f729606e19c12047e2e396d4d2c799578edf781a"
   }
  }
 },
 "nbformat": 4,
 "nbformat_minor": 2
}
